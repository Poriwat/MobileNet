{
  "cells": [
    {
      "cell_type": "code",
      "execution_count": null,
      "metadata": {
        "id": "kHPcoXWur4vb"
      },
      "outputs": [],
      "source": [
        "import tensorflow as tf\n",
        "from tensorflow import keras\n",
        "from tensorflow.keras import layers\n",
        "import matplotlib.pyplot as plt"
      ]
    },
    {
      "cell_type": "code",
      "execution_count": null,
      "metadata": {
        "colab": {
          "base_uri": "https://localhost:8080/"
        },
        "id": "c-jZu9wLsG7T",
        "outputId": "fe6c3885-423e-495b-8743-77d5120f5332"
      },
      "outputs": [
        {
          "output_type": "stream",
          "name": "stdout",
          "text": [
            "Drive already mounted at /content/drive; to attempt to forcibly remount, call drive.mount(\"/content/drive\", force_remount=True).\n"
          ]
        }
      ],
      "source": [
        "from google.colab import drive\n",
        "\n",
        "drive.mount(\"/content/drive\")"
      ]
    },
    {
      "cell_type": "code",
      "execution_count": null,
      "metadata": {
        "id": "QjPsJGGLsIw3"
      },
      "outputs": [],
      "source": [
        "import pathlib\n",
        "base_dir = pathlib.Path(\"/content/drive/MyDrive/dataset\") #path dataset"
      ]
    },
    {
      "cell_type": "code",
      "execution_count": null,
      "metadata": {
        "id": "WZf8c9PvsJs5"
      },
      "outputs": [],
      "source": [
        "IMAGE_SIZE = 180\n",
        "BATCH_SIZE = 64"
      ]
    },
    {
      "cell_type": "code",
      "execution_count": null,
      "metadata": {
        "id": "ojgRz695sKK8"
      },
      "outputs": [],
      "source": [
        "datagen = tf.keras.preprocessing.image.ImageDataGenerator(\n",
        "    rescale = 1./255,\n",
        "    validation_split=0.2\n",
        ")"
      ]
    },
    {
      "cell_type": "code",
      "execution_count": null,
      "metadata": {
        "colab": {
          "base_uri": "https://localhost:8080/"
        },
        "id": "2lOv_AdgsLnJ",
        "outputId": "7f057b44-ba4b-4c0e-c1a7-e2cd5f3ac3c1"
      },
      "outputs": [
        {
          "output_type": "stream",
          "name": "stdout",
          "text": [
            "Found 800 images belonging to 2 classes.\n",
            "Found 400 images belonging to 2 classes.\n",
            "Found 600 images belonging to 2 classes.\n"
          ]
        }
      ],
      "source": [
        "train_dataset = datagen.flow_from_directory(\n",
        "    base_dir/'train',\n",
        "    target_size=(IMAGE_SIZE, IMAGE_SIZE),\n",
        "    batch_size = BATCH_SIZE,\n",
        "\n",
        ")\n",
        "validation_dataset = datagen.flow_from_directory(\n",
        "    base_dir/ 'validation',\n",
        "    target_size=(IMAGE_SIZE, IMAGE_SIZE),\n",
        "    batch_size=BATCH_SIZE,\n",
        ")\n",
        "\n",
        "test_dataset = datagen.flow_from_directory(\n",
        "    base_dir/ 'test',\n",
        "    target_size=(IMAGE_SIZE, IMAGE_SIZE),\n",
        "    batch_size=BATCH_SIZE,\n",
        ")"
      ]
    },
    {
      "cell_type": "code",
      "source": [
        "train_dataset.class_indices"
      ],
      "metadata": {
        "id": "JL8aM_dV3w9K",
        "outputId": "5a4bf9a5-af40-4608-9160-e916e976495c",
        "colab": {
          "base_uri": "https://localhost:8080/"
        }
      },
      "execution_count": null,
      "outputs": [
        {
          "output_type": "execute_result",
          "data": {
            "text/plain": [
              "{'benign': 0, 'malignent': 1}"
            ]
          },
          "metadata": {},
          "execution_count": 7
        }
      ]
    },
    {
      "cell_type": "code",
      "execution_count": null,
      "metadata": {
        "colab": {
          "base_uri": "https://localhost:8080/"
        },
        "id": "8GY8kcShsNwp",
        "outputId": "57d30857-6578-426e-8f5a-14ee67d96b3a"
      },
      "outputs": [
        {
          "output_type": "stream",
          "name": "stderr",
          "text": [
            "WARNING:tensorflow:`input_shape` is undefined or non-square, or `rows` is not in [96, 128, 160, 192, 224]. Weights for input shape (224, 224) will be loaded as the default.\n"
          ]
        }
      ],
      "source": [
        "IMG_SHAPE = (IMAGE_SIZE, IMAGE_SIZE, 3) #180,180, RGB\n",
        "base_model = tf.keras.applications.MobileNetV2(\n",
        "    input_shape=IMG_SHAPE,\n",
        "    include_top=False,\n",
        "    weights='imagenet'\n",
        ")\n",
        "base_model.trainable=False"
      ]
    },
    {
      "cell_type": "code",
      "execution_count": null,
      "metadata": {
        "id": "CTf3noOZnFQq"
      },
      "outputs": [],
      "source": [
        "# data_augmentation = keras.Sequential(\n",
        "# [\n",
        "#     layers.RandomFlip(\"horizontal\"),\n",
        "#     layers.RandomRotation(0.1),\n",
        "#     layers.RandomZoom(0.2),\n",
        "# ])"
      ]
    },
    {
      "cell_type": "code",
      "execution_count": null,
      "metadata": {
        "id": "AokD75fZ7beq"
      },
      "outputs": [],
      "source": [
        "model = tf.keras.Sequential([\n",
        "  base_model,\n",
        "  # data_augmentation,\n",
        "  tf.keras.layers.Conv2D(32,3, activation = 'relu'),\n",
        "  tf.keras.layers.Dropout(0.5),\n",
        "  tf.keras.layers.GlobalAveragePooling2D(),\n",
        "  tf.keras.layers.Dense(2, activation='softmax')\n",
        "])\n"
      ]
    },
    {
      "cell_type": "code",
      "execution_count": null,
      "metadata": {
        "id": "0o5k5Uo17d3t"
      },
      "outputs": [],
      "source": [
        "model.compile(\n",
        "    optimizer=tf.keras.optimizers.Adam(learning_rate=0.01),\n",
        "     loss='binary_crossentropy',\n",
        "    metrics=['accuracy']\n",
        ")"
      ]
    },
    {
      "cell_type": "code",
      "execution_count": null,
      "metadata": {
        "id": "oPkkaU9-nEkJ"
      },
      "outputs": [],
      "source": [
        "# model.summary()"
      ]
    },
    {
      "cell_type": "code",
      "execution_count": null,
      "metadata": {
        "id": "PG_nH_CN09Yy"
      },
      "outputs": [],
      "source": [
        "# tf.keras.utils.plot_model(model, to_file = 'model.jpg', show_shapes = True)"
      ]
    },
    {
      "cell_type": "code",
      "execution_count": null,
      "metadata": {
        "colab": {
          "base_uri": "https://localhost:8080/"
        },
        "id": "rRRXJWTU7e7A",
        "outputId": "5c654cdd-7934-4c0e-ddbc-600752949e9c"
      },
      "outputs": [
        {
          "output_type": "stream",
          "name": "stdout",
          "text": [
            "Epoch 1/30\n",
            "13/13 [==============================] - 283s 23s/step - loss: 12.5020 - accuracy: 0.6050 - val_loss: 0.8960 - val_accuracy: 0.5025\n",
            "Epoch 2/30\n",
            "13/13 [==============================] - 5s 350ms/step - loss: 0.5855 - accuracy: 0.5000 - val_loss: 0.5128 - val_accuracy: 0.5000\n",
            "Epoch 3/30\n",
            "13/13 [==============================] - 5s 354ms/step - loss: 0.5097 - accuracy: 0.8062 - val_loss: 0.5609 - val_accuracy: 0.7975\n",
            "Epoch 4/30\n",
            "13/13 [==============================] - 5s 421ms/step - loss: 0.4699 - accuracy: 0.8562 - val_loss: 0.4804 - val_accuracy: 0.8600\n",
            "Epoch 5/30\n",
            "13/13 [==============================] - 5s 360ms/step - loss: 0.4348 - accuracy: 0.8913 - val_loss: 0.4625 - val_accuracy: 0.8625\n",
            "Epoch 6/30\n",
            "13/13 [==============================] - 5s 385ms/step - loss: 0.3922 - accuracy: 0.9175 - val_loss: 0.4290 - val_accuracy: 0.8800\n",
            "Epoch 7/30\n",
            "13/13 [==============================] - 5s 352ms/step - loss: 0.3561 - accuracy: 0.9350 - val_loss: 0.4167 - val_accuracy: 0.8875\n",
            "Epoch 8/30\n",
            "13/13 [==============================] - 5s 373ms/step - loss: 0.3375 - accuracy: 0.9388 - val_loss: 0.3868 - val_accuracy: 0.9000\n",
            "Epoch 9/30\n",
            "13/13 [==============================] - 4s 350ms/step - loss: 0.3115 - accuracy: 0.9375 - val_loss: 0.3730 - val_accuracy: 0.9075\n",
            "Epoch 10/30\n",
            "13/13 [==============================] - 4s 322ms/step - loss: 0.2913 - accuracy: 0.9500 - val_loss: 0.3748 - val_accuracy: 0.9100\n",
            "Epoch 11/30\n",
            "13/13 [==============================] - 5s 349ms/step - loss: 0.2588 - accuracy: 0.9563 - val_loss: 0.3910 - val_accuracy: 0.8850\n",
            "Epoch 12/30\n",
            "13/13 [==============================] - 4s 333ms/step - loss: 0.2345 - accuracy: 0.9737 - val_loss: 0.3841 - val_accuracy: 0.8850\n",
            "Epoch 13/30\n",
            "13/13 [==============================] - 4s 321ms/step - loss: 0.2117 - accuracy: 0.9825 - val_loss: 0.4036 - val_accuracy: 0.8775\n",
            "Epoch 14/30\n",
            "13/13 [==============================] - 4s 352ms/step - loss: 0.1978 - accuracy: 0.9825 - val_loss: 0.4040 - val_accuracy: 0.8775\n",
            "Epoch 15/30\n",
            "13/13 [==============================] - 5s 419ms/step - loss: 0.1792 - accuracy: 0.9912 - val_loss: 0.3607 - val_accuracy: 0.8950\n",
            "Epoch 16/30\n",
            "13/13 [==============================] - 4s 327ms/step - loss: 0.1685 - accuracy: 0.9862 - val_loss: 0.4438 - val_accuracy: 0.8750\n",
            "Epoch 17/30\n",
            "13/13 [==============================] - 5s 347ms/step - loss: 0.1582 - accuracy: 0.9937 - val_loss: 0.4313 - val_accuracy: 0.8650\n",
            "Epoch 18/30\n",
            "13/13 [==============================] - 4s 328ms/step - loss: 0.1452 - accuracy: 0.9937 - val_loss: 0.4264 - val_accuracy: 0.8725\n",
            "Epoch 19/30\n",
            "13/13 [==============================] - 5s 431ms/step - loss: 0.1414 - accuracy: 0.9875 - val_loss: 0.3388 - val_accuracy: 0.9000\n",
            "Epoch 20/30\n",
            "13/13 [==============================] - 4s 326ms/step - loss: 0.1338 - accuracy: 0.9862 - val_loss: 0.3668 - val_accuracy: 0.8975\n",
            "Epoch 21/30\n",
            "13/13 [==============================] - 4s 327ms/step - loss: 0.1202 - accuracy: 0.9937 - val_loss: 0.3632 - val_accuracy: 0.8925\n",
            "Epoch 22/30\n",
            "13/13 [==============================] - 5s 351ms/step - loss: 0.1169 - accuracy: 0.9900 - val_loss: 0.3931 - val_accuracy: 0.8950\n",
            "Epoch 23/30\n",
            "13/13 [==============================] - 4s 330ms/step - loss: 0.1084 - accuracy: 0.9900 - val_loss: 0.4362 - val_accuracy: 0.8775\n",
            "Epoch 24/30\n",
            "13/13 [==============================] - 4s 319ms/step - loss: 0.1016 - accuracy: 0.9912 - val_loss: 0.4502 - val_accuracy: 0.8775\n",
            "Epoch 25/30\n",
            "13/13 [==============================] - 4s 342ms/step - loss: 0.0945 - accuracy: 0.9962 - val_loss: 0.4491 - val_accuracy: 0.8775\n",
            "Epoch 26/30\n",
            "13/13 [==============================] - 4s 319ms/step - loss: 0.0901 - accuracy: 0.9950 - val_loss: 0.5088 - val_accuracy: 0.8775\n",
            "Epoch 27/30\n",
            "13/13 [==============================] - 4s 322ms/step - loss: 0.0832 - accuracy: 0.9950 - val_loss: 0.4740 - val_accuracy: 0.8775\n",
            "Epoch 28/30\n",
            "13/13 [==============================] - 4s 348ms/step - loss: 0.0817 - accuracy: 0.9950 - val_loss: 0.5036 - val_accuracy: 0.8800\n",
            "Epoch 29/30\n",
            "13/13 [==============================] - 4s 321ms/step - loss: 0.0785 - accuracy: 0.9937 - val_loss: 0.4683 - val_accuracy: 0.8825\n",
            "Epoch 30/30\n",
            "13/13 [==============================] - 4s 329ms/step - loss: 0.0735 - accuracy: 0.9962 - val_loss: 0.4625 - val_accuracy: 0.8825\n"
          ]
        }
      ],
      "source": [
        "callbacks = [\n",
        "    keras.callbacks.ModelCheckpoint(\n",
        "        filepath= base_dir / \"MobileNetV3Large.keras\",\n",
        "        save_best_only=True,\n",
        "        monitor=\"val_loss\")\n",
        "]\n",
        "\n",
        "history = model.fit(\n",
        "    train_dataset,\n",
        "    epochs= 30 ,\n",
        "    validation_data=validation_dataset,\n",
        "    callbacks=callbacks\n",
        ")"
      ]
    },
    {
      "cell_type": "code",
      "execution_count": null,
      "metadata": {
        "id": "1fIzeaNc7hHG",
        "colab": {
          "base_uri": "https://localhost:8080/",
          "height": 887
        },
        "outputId": "385d583c-dc52-4044-81a5-5b5ec62b26c9"
      },
      "outputs": [
        {
          "output_type": "display_data",
          "data": {
            "text/plain": [
              "<Figure size 640x480 with 1 Axes>"
            ],
            "image/png": "[encoded data removed]"
          },
          "metadata": {}
        },
        {
          "output_type": "display_data",
          "data": {
            "text/plain": [
              "<Figure size 640x480 with 1 Axes>"
            ],
            "image/png": "[encoded data removed]"
          },
          "metadata": {}
        }
      ],
      "source": [
        "accuracy = history.history[\"accuracy\"]\n",
        "val_accuracy = history.history[\"val_accuracy\"]\n",
        "loss = history.history[\"loss\"]\n",
        "val_loss = history.history[\"val_loss\"]\n",
        "epochs = range(1, len(accuracy) + 1)\n",
        "plt.plot(epochs, accuracy, \"bo\", label=\"Training accuracy\")\n",
        "plt.plot(epochs, val_accuracy, \"b\", label=\"Validation accuracy\")\n",
        "plt.title(\"Training and validation accuracy\")\n",
        "plt.legend()\n",
        "plt.figure()\n",
        "plt.plot(epochs, loss, \"bo\", label=\"Training loss\")\n",
        "plt.plot(epochs, val_loss, \"b\", label=\"Validation loss\")\n",
        "plt.title(\"Training and validation loss\")\n",
        "plt.legend()\n",
        "plt.show()"
      ]
    },
    {
      "cell_type": "code",
      "execution_count": null,
      "metadata": {
        "id": "WsDzlVJo7iQd",
        "colab": {
          "base_uri": "https://localhost:8080/"
        },
        "outputId": "7783e7f0-4a1e-4090-914b-bfbdf5e13284"
      },
      "outputs": [
        {
          "output_type": "stream",
          "name": "stdout",
          "text": [
            "10/10 [==============================] - 389s 43s/step - loss: 0.4741 - accuracy: 0.8050\n",
            "Test accuracy: 0.805\n"
          ]
        }
      ],
      "source": [
        "test_model_2 = keras.models.load_model(base_dir /  \"MobileNetV3Large.keras\")\n",
        "test_loss, test_acc = test_model_2.evaluate(test_dataset)\n",
        "print(f\"Test accuracy: {test_acc:.3f}\")"
      ]
    },
    {
      "cell_type": "markdown",
      "source": [
        "### Create file label.txt and convert file model to tflite"
      ],
      "metadata": {
        "id": "R0IAplo05i7C"
      }
    },
    {
      "cell_type": "code",
      "source": [
        "import os #for file management\n",
        "from google.colab import files\n"
      ],
      "metadata": {
        "id": "XT2Q9RVp5Z8Z"
      },
      "execution_count": null,
      "outputs": []
    },
    {
      "cell_type": "code",
      "source": [
        "print(train_dataset.class_indices)\n",
        "labels = '\\n'.join(sorted(train_dataset.class_indices.keys()))\n",
        "with open('labels.txt', 'w') as f:\n",
        "    f.write(labels)"
      ],
      "metadata": {
        "id": "xzMMryZJ5KOA",
        "colab": {
          "base_uri": "https://localhost:8080/"
        },
        "outputId": "c561710c-8fb9-46cb-c1d9-7fc51e7fbd36"
      },
      "execution_count": null,
      "outputs": [
        {
          "output_type": "stream",
          "name": "stdout",
          "text": [
            "{'benign': 0, 'malignent': 1}\n"
          ]
        }
      ]
    },
    {
      "cell_type": "code",
      "source": [
        "model = tf.keras.models.load_model(base_dir/\"MobileNetV3Large.keras\")\n",
        "converter = tf.lite.TFLiteConverter.from_keras_model(model)\n",
        "tflmodel = converter.convert()\n",
        "file = open( 'model.tflite' , 'wb' )\n",
        "file.write( tflmodel )"
      ],
      "metadata": {
        "id": "-Ua-EZ2I5LdW",
        "colab": {
          "base_uri": "https://localhost:8080/"
        },
        "outputId": "786ab8bf-89c3-45f6-b85d-e2795557191f"
      },
      "execution_count": null,
      "outputs": [
        {
          "output_type": "stream",
          "name": "stderr",
          "text": [
            "WARNING:absl:Function `_wrapped_model` contains input name(s) mobilenetv2_1.00_224_input with unsupported characters which will be renamed to mobilenetv2_1_00_224_input in the SavedModel.\n",
            "WARNING:absl:`mobilenetv2_1.00_224_input` is not a valid tf.function parameter name. Sanitizing to `mobilenetv2_1_00_224_input`.\n",
            "WARNING:absl:`mobilenetv2_1.00_224_input` is not a valid tf.function parameter name. Sanitizing to `mobilenetv2_1_00_224_input`.\n",
            "WARNING:absl:`mobilenetv2_1.00_224_input` is not a valid tf.function parameter name. Sanitizing to `mobilenetv2_1_00_224_input`.\n",
            "WARNING:absl:Found untraced functions such as _jit_compiled_convolution_op, _update_step_xla, _jit_compiled_convolution_op, _jit_compiled_convolution_op, _jit_compiled_convolution_op while saving (showing 5 of 54). These functions will not be directly callable after loading.\n"
          ]
        },
        {
          "output_type": "execute_result",
          "data": {
            "text/plain": [
              "10341704"
            ]
          },
          "metadata": {},
          "execution_count": 20
        }
      ]
    },
    {
      "cell_type": "code",
      "source": [
        "files.download('model.tflite')\n",
        "files.download('labels.txt')"
      ],
      "metadata": {
        "id": "SJAvPjPM5yw7"
      },
      "execution_count": null,
      "outputs": []
    }
  ],
  "metadata": {
    "accelerator": "GPU",
    "colab": {
      "machine_shape": "hm",
      "provenance": [],
      "gpuType": "T4"
    },
    "kernelspec": {
      "display_name": "Python 3",
      "name": "python3"
    },
    "language_info": {
      "name": "python"
    }
  },
  "nbformat": 4,
  "nbformat_minor": 0
}